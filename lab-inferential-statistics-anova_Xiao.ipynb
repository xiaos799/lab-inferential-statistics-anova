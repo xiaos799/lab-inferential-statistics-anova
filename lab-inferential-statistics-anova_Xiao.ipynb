{
 "cells": [
  {
   "cell_type": "code",
   "execution_count": null,
   "metadata": {},
   "outputs": [],
   "source": [
    "# Part 1\n",
    "\n",
    "# Null hypothesis: Changing the power of the plasma beam does not have any effect on the etching rate by the machine.\n",
    "# Alternate hypothesis: Changing the power of the plasma beam does have a significant effect on the etching rate by the machine.\n",
    "# Significance level: 0.05\n",
    "# freedom of model: 2, error terms: 12, total DoF: 14"
   ]
  },
  {
   "cell_type": "code",
   "execution_count": 3,
   "metadata": {},
   "outputs": [
    {
     "name": "stdout",
     "output_type": "stream",
     "text": [
      "F-Statistic: 36.87895470100505\n",
      "P-value: 7.506584272358903e-06\n"
     ]
    }
   ],
   "source": [
    "# Part 2\n",
    "\n",
    "from scipy.stats import f_oneway\n",
    "\n",
    "etching_rates = [\n",
    "    [5.43, 5.71, 6.22, 6.01, 5.59],\n",
    "    [6.24, 6.71, 5.98, 5.66, 6.6],\n",
    "    [8.79, 9.2, 7.9, 8.15, 7.55]\n",
    "]\n",
    "\n",
    "f_statistic, p_value = f_oneway(*etching_rates)\n",
    "\n",
    "print(\"F-Statistic:\", f_statistic)\n",
    "print(\"P-value:\", p_value)"
   ]
  },
  {
   "cell_type": "code",
   "execution_count": null,
   "metadata": {},
   "outputs": [],
   "source": [
    "# conclusion: P-value = 0.000007506584272358903 << 0.05/0.01 --> reject the null hypothesis, ie there's significant differences exist between means"
   ]
  }
 ],
 "metadata": {
  "kernelspec": {
   "display_name": "base",
   "language": "python",
   "name": "python3"
  },
  "language_info": {
   "codemirror_mode": {
    "name": "ipython",
    "version": 3
   },
   "file_extension": ".py",
   "mimetype": "text/x-python",
   "name": "python",
   "nbconvert_exporter": "python",
   "pygments_lexer": "ipython3",
   "version": "3.11.5"
  }
 },
 "nbformat": 4,
 "nbformat_minor": 2
}
